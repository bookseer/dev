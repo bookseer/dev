{
 "cells": [
  {
   "cell_type": "markdown",
   "id": "a0c2d589",
   "metadata": {},
   "source": [
    "(tmux_basic)=\n",
    "# Основы tmux"
   ]
  },
  {
   "cell_type": "markdown",
   "id": "aeda518f",
   "metadata": {},
   "source": [
    "Теперь, когда tmux установлен, рассмотрим основные его функции, начав с базового сеанса."
   ]
  },
  {
   "cell_type": "markdown",
   "id": "fab4913d",
   "metadata": {},
   "source": [
    "## Запуск tmux\n",
    "\n",
    "Самый простой способ запуска tmux — ввести в терминале:\n",
    ":::console\n",
    "$ tmux\n",
    ":::"
   ]
  }
 ],
 "metadata": {
  "jupytext": {
   "text_representation": {
    "extension": ".md",
    "format_name": "myst"
   }
  },
  "kernelspec": {
   "display_name": "Python 3",
   "language": "python",
   "name": "python3"
  },
  "source_map": [
   10,
   15,
   19
  ]
 },
 "nbformat": 4,
 "nbformat_minor": 5
}