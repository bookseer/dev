{
 "cells": [
  {
   "cell_type": "markdown",
   "id": "ef1f6e08",
   "metadata": {},
   "source": [
    "(tmux_text-and-buffer)=\n",
    "# Работа с текстом и буферами"
   ]
  }
 ],
 "metadata": {
  "jupytext": {
   "text_representation": {
    "extension": ".md",
    "format_name": "myst"
   }
  },
  "kernelspec": {
   "display_name": "Python 3",
   "language": "python",
   "name": "python3"
  },
  "source_map": [
   10
  ]
 },
 "nbformat": 4,
 "nbformat_minor": 5
}