{
 "cells": [
  {
   "cell_type": "markdown",
   "id": "f9659621",
   "metadata": {},
   "source": [
    "(tmux_appendix-b)=\n",
    "# Приложение Б. Пример конфигурации"
   ]
  }
 ],
 "metadata": {
  "jupytext": {
   "text_representation": {
    "extension": ".md",
    "format_name": "myst"
   }
  },
  "kernelspec": {
   "display_name": "Python 3",
   "language": "python",
   "name": "python3"
  },
  "source_map": [
   10
  ]
 },
 "nbformat": 4,
 "nbformat_minor": 5
}