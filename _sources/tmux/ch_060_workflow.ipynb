{
 "cells": [
  {
   "cell_type": "markdown",
   "id": "00f03626",
   "metadata": {},
   "source": [
    "(tmux_ch_060_workflow)=\n",
    "# Глава 6. Рабочий процесс с tmux"
   ]
  }
 ],
 "metadata": {
  "jupytext": {
   "text_representation": {
    "extension": ".md",
    "format_name": "myst"
   }
  },
  "kernelspec": {
   "display_name": "Python 3",
   "language": "python",
   "name": "python3"
  },
  "source_map": [
   10
  ]
 },
 "nbformat": 4,
 "nbformat_minor": 5
}