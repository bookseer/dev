{
 "cells": [
  {
   "cell_type": "markdown",
   "id": "e18fdecb",
   "metadata": {},
   "source": [
    "(tmux_appendix-a)=\n",
    "# Приложение А. Команды tmux"
   ]
  }
 ],
 "metadata": {
  "jupytext": {
   "text_representation": {
    "extension": ".md",
    "format_name": "myst"
   }
  },
  "kernelspec": {
   "display_name": "Python 3",
   "language": "python",
   "name": "python3"
  },
  "source_map": [
   10
  ]
 },
 "nbformat": 4,
 "nbformat_minor": 5
}