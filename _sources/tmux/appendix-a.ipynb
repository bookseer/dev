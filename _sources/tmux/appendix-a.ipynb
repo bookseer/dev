{
 "cells": [
  {
   "cell_type": "markdown",
   "id": "d899e696",
   "metadata": {},
   "source": [
    "(tmux_appendix-a)=\n",
    "# Приложение А. Команды tmux"
   ]
  }
 ],
 "metadata": {
  "jupytext": {
   "text_representation": {
    "extension": ".md",
    "format_name": "myst"
   }
  },
  "kernelspec": {
   "display_name": "Python 3",
   "language": "python",
   "name": "python3"
  },
  "source_map": [
   10
  ]
 },
 "nbformat": 4,
 "nbformat_minor": 5
}