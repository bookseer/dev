{
 "cells": [
  {
   "cell_type": "markdown",
   "id": "da37f3bd",
   "metadata": {},
   "source": [
    "(tmux_index)=\n",
    "# Руководство по tmux\n",
    "\n",
    ":::{tableofcontents}\n",
    ":::"
   ]
  }
 ],
 "metadata": {
  "jupytext": {
   "text_representation": {
    "extension": ".md",
    "format_name": "myst"
   }
  },
  "kernelspec": {
   "display_name": "Python 3",
   "language": "python",
   "name": "python3"
  },
  "source_map": [
   10
  ]
 },
 "nbformat": 4,
 "nbformat_minor": 5
}