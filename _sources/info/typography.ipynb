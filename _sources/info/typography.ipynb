{
 "cells": [
  {
   "cell_type": "markdown",
   "id": "6c206a2e",
   "metadata": {},
   "source": [
    "# Типографские соглашения\n",
    "\n",
    "## Программный код\n",
    "\n",
    "Пример кода внутри строки, обозначается так: `echo \"Hello, World!\"`.\n",
    "\n",
    "Команда вводимая в терминал Unix подобных систем:\n",
    "```console\n",
    "$ echo \"Hello, World!\"\n",
    "```\n",
    "Символ **$** является приглашением командной строки. Его вводить не нужно.\n",
    "\n",
    "<!--\n",
    "Команда вводимая в командной строке Windows:\n",
    "```console\n",
    "c:\\> echo \"Hello, World!\"\n",
    "```\n",
    "Символы **c:\\\\>** являются приглашением командной строки. Их вводить не нужно.\n",
    "-->\n",
    "\n",
    "Команда вводимая в терминал Unix подобных систем вместе с выводом:"
   ]
  },
  {
   "cell_type": "code",
   "execution_count": 1,
   "id": "24ad6949",
   "metadata": {},
   "outputs": [
    {
     "name": "stdout",
     "output_type": "stream",
     "text": [
      "Hello, World!\n"
     ]
    }
   ],
   "source": [
    "%%bash\n",
    "echo \"Hello, World!\""
   ]
  },
  {
   "cell_type": "markdown",
   "id": "c2464353",
   "metadata": {},
   "source": [
    "Python код выглядит\n",
    "```python\n",
    "message = \"Hello, World!\"\n",
    "print(message)\n",
    "```\n",
    "\n",
    "А так — python код и результат его исполнения"
   ]
  },
  {
   "cell_type": "code",
   "execution_count": 2,
   "id": "e0ac4ca1",
   "metadata": {},
   "outputs": [
    {
     "name": "stdout",
     "output_type": "stream",
     "text": [
      "Hello, World!\n"
     ]
    }
   ],
   "source": [
    "message = \"Hello, World!\"\n",
    "print(message)"
   ]
  },
  {
   "cell_type": "markdown",
   "id": "a4faa4ce",
   "metadata": {},
   "source": [
    "## Сочетания клавиш\n",
    "\n",
    "```{list-table}\n",
    ":header-rows: 1\n",
    ":name: tbl_img_notation\n",
    "\n",
    "* - Нотация\n",
    "  - Значение\n",
    "* - {bdg-dark}`a`\n",
    "  - Нажать одну клавишу {bdg-dark}`a`\n",
    "* - {bdg-dark}`Esc`\n",
    "  - Нажать клавишу Escape\n",
    "* - {bdg-dark}`Enter`\n",
    "  - Нажать клавишу Enter\n",
    "* - {bdg-dark}`Ctrl`\n",
    "  - Нажать клавишу Ctrl\n",
    "* - {bdg-dark}`Shift`\n",
    "  - Нажать клавишу Shift\n",
    "* - {bdg-dark}`Tab`\n",
    "  - Нажать клавишу Tab\n",
    "* - {bdg-dark}`Пробел`\n",
    "  - Нажать клавишу пробел\n",
    "* - {bdg-dark}`Up`\n",
    "  - Нажать клавишу со стрелкой вверх\n",
    "* - {bdg-dark}`Down`\n",
    "  - Нажать клавишу со стрелкой вниз\n",
    "* - {bdg-dark}`Right`\n",
    "  - Нажать клавишу со стрелкой вправо\n",
    "* - {bdg-dark}`Left`\n",
    "  - Нажать клавишу со стрелкой влево\n",
    "* - {bdg-dark}`a` {bdg-dark}`b`\n",
    "  - Нажать клавишу {bdg-dark}`a`, отпустить и нажать клавишу {bdg-dark}`b`\n",
    "* - {bdg-dark}`a` {bdg-dark}`b` {bdg-dark}`с`\n",
    "  - Нажать клавишу {bdg-dark}`a`, отпустить, затем нажать {bdg-dark}`b`, отпустить и нажать {bdg-dark}`c`\n",
    "* - {bdg-dark}`Ctrl`-{bdg-dark}`b`\n",
    "  - Одновременно нажать клавиши {bdg-dark}`Ctrl` и {bdg-dark}`b`\n",
    "* - {bdg-dark}`Ctrl`-{bdg-dark}`Tab`\n",
    "  - Одновременно нажать клавиши {bdg-dark}`Ctrl` и {bdg-dark}`Tab`\n",
    "* - {bdg-dark}`Ctrl`-{bdg-dark}`b` {bdg-dark}`t`\n",
    "  - Одновременно нажать клавиши {bdg-dark}`Ctrl` и {bdg-dark}`b`, отпустить и нажать {bdg-dark}`t`\n",
    "* - {bdg-dark}`g` {bdg-dark}`Ctrl`-{bdg-dark}`]`\n",
    "  - Нажать клавишу {bdg-dark}`g`, отпустить и одновременно нажать клавиши {bdg-dark}`Ctrl` и {bdg-dark}`]`\n",
    "* - {bdg-dark}`Ctrl`-{bdg-dark}`a` {bdg-dark}`Ctrl`-{bdg-dark}`c`\n",
    "  - Одновременно нажать клавиши {bdg-dark}`Ctrl` и {bdg-dark}`a`, отпустить и одновременно нажать клавиши {bdg-dark}`Ctrl` и {bdg-dark}`c`\n",
    "* - {bdg-dark}`f` {bdg-dark}`[char]`\n",
    "  - Нажать клавишу {bdg-dark}`f`, затем ввести любой символ\n",
    "* - {bdg-dark}`m` {bdg-dark}`[a-z]`\n",
    "  - Нажать клавишу {bdg-dark}`m`, затем ввести любой символ нижнего регистра\n",
    "* - {bdg-dark}`m` {bdg-dark}`[A-Z]`\n",
    "  - Нажать клавишу {bdg-dark}`m`, затем ввести любой символ верхнего регистра\n",
    "* - {bdg-dark}`m` {bdg-dark}`[a-zA-Z]`\n",
    "  - Нажать клавишу {bdg-dark}`m`, затем ввести любой символ нижнего регистра или верхнего регистра\n",
    "* - {bdg-dark}`d` {bdg-dark}`[motion]`\n",
    "  - Нажать клавишу {bdg-dark}`d`, затем ввести любой символ перемещения курсора\n",
    "```"
   ]
  },
  {
   "cell_type": "markdown",
   "id": "9473e331",
   "metadata": {},
   "source": [
    "## Графические выделения\n",
    "\n",
    "<!--\n",
    ":::{admonition} This is a title\n",
    ":class: note\n",
    ":class: warning\n",
    ":class: tip\n",
    ":class: caution\n",
    ":class: attention\n",
    ":class: danger\n",
    ":class: error\n",
    ":class: hint\n",
    ":class: important\n",
    ":class: seealso\n",
    "An example of an admonition with a title.\n",
    ":::\n",
    "-->\n",
    "\n",
    ":::{note}\n",
    "Так обозначаются замечания общего характера.\n",
    ":::\n",
    "\n",
    ":::{tip}\n",
    "Так обозначаются советы и рекомендации.\n",
    ":::\n",
    "\n",
    ":::{hint}\n",
    "Так обозначаются подсказки.\n",
    ":::\n",
    "\n",
    ":::{seealso}\n",
    "Так обозначаются ссылки на материал по теме.\n",
    ":::\n",
    "\n",
    ":::{attention}\n",
    "Материал, требующий особого внимания обозначается так.\n",
    ":::\n",
    "\n",
    ":::{warning}\n",
    "Так обозначаются предупреждения и предостережения.\n",
    ":::\n",
    "\n",
    ":::{error}\n",
    "Так обозначаются действия, которые могут привести к ошибке.\n",
    ":::\n",
    "\n",
    ":::{danger}\n",
    "Потенциально опасные действия, обозначаются так.\n",
    ":::"
   ]
  }
 ],
 "metadata": {
  "jupytext": {
   "formats": "md:myst",
   "text_representation": {
    "extension": ".md",
    "format_name": "myst"
   }
  },
  "kernelspec": {
   "display_name": "Python 3",
   "language": "python",
   "name": "python3"
  },
  "language_info": {
   "codemirror_mode": {
    "name": "ipython",
    "version": 3
   },
   "file_extension": ".py",
   "mimetype": "text/x-python",
   "name": "python",
   "nbconvert_exporter": "python",
   "pygments_lexer": "ipython3",
   "version": "3.12.1"
  },
  "source_map": [
   11,
   34,
   37,
   46,
   51,
   109
  ]
 },
 "nbformat": 4,
 "nbformat_minor": 5
}