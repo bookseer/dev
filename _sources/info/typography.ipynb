{
 "cells": [
  {
   "cell_type": "markdown",
   "id": "d7a6e418",
   "metadata": {},
   "source": [
    "# Типографские соглашения\n",
    "\n",
    "## Программный код\n",
    "\n",
    "Пример кода внутри строки, обозначается так: `echo \"Hello, World!\"`.\n",
    "\n",
    "Команда вводимая в терминал Unix подобных систем:\n",
    "```bash\n",
    "echo \"Hello, World!\"\n",
    "```\n",
    "Символ **$** является приглашением командной строки. Его вводить не нужно. \n",
    "\n",
    "Команда вводимая в командной строке Windows подобных систем:\n",
    "```shell\n",
    "echo \"Hello, World!\"\n",
    "```\n",
    "Символы **C:\\\\>** являются приглашением командной строки. Их вводить не нужно. \n",
    "\n",
    "Команда вводимая в терминал Unix подобных систем вместе с выводом:\n",
    "```bash\n",
    "echo \"Hello, World!\"\n",
    "```"
   ]
  },
  {
   "cell_type": "code",
   "execution_count": 1,
   "id": "855efe31",
   "metadata": {
    "tags": [
     "remove-input"
    ]
   },
   "outputs": [
    {
     "name": "stdout",
     "output_type": "stream",
     "text": [
      "Hello, World!\n"
     ]
    }
   ],
   "source": [
    "%%bash\n",
    "echo \"Hello, World!\""
   ]
  },
  {
   "cell_type": "markdown",
   "id": "65625861",
   "metadata": {},
   "source": [
    "Python код выглядит \n",
    "```python\n",
    "message = \"Hello, World!\"\n",
    "print(message)\n",
    "```\n",
    "А так — python код и результат его исполнения"
   ]
  },
  {
   "cell_type": "code",
   "execution_count": 2,
   "id": "677010e6",
   "metadata": {},
   "outputs": [
    {
     "name": "stdout",
     "output_type": "stream",
     "text": [
      "Hello, World!\n"
     ]
    }
   ],
   "source": [
    "message = \"Hello, World!\"\n",
    "print(message)"
   ]
  },
  {
   "cell_type": "markdown",
   "id": "d96a9c95",
   "metadata": {},
   "source": [
    "## Графические выделения\n",
    "\n",
    "<!--\n",
    "```{admonition} This is a title\n",
    ":class: note\n",
    ":class: warning\n",
    ":class: tip\n",
    ":class: caution\n",
    ":class: attention\n",
    ":class: danger\n",
    ":class: error\n",
    ":class: hint\n",
    ":class: important\n",
    ":class: seealso\n",
    "An example of an admonition with a title.\n",
    "```\n",
    "-->\n",
    "\n",
    "```{admonition} Замечание\n",
    ":class: note\n",
    "Так обозначаются замечания общего характера.\n",
    "```\n",
    "\n",
    "```{admonition} Совет\n",
    "Так обозначаются советы и рекомендации,\n",
    "```\n",
    "\n",
    "```{admonition} Подсказка\n",
    ":class: hint\n",
    "Так обозначаются подсказки.\n",
    "```\n",
    "\n",
    "```{admonition} Смотрите также\n",
    ":class: seealso\n",
    "Так обозначаются ссылки на материал по теме.\n",
    "```\n",
    "\n",
    "```{admonition} Внимание\n",
    ":class: important\n",
    "Материал, требующий особого внимания обозначается так.\n",
    "```\n",
    "\n",
    "```{admonition} Предупреждение \n",
    ":class: warning\n",
    "Так обозначаются предупреждения и предостережения.\n",
    "```\n",
    "\n",
    "```{admonition} Опасность\n",
    ":class: danger\n",
    "Потенциально опасные действия, обозначаются так.\n",
    "```\n",
    "\n",
    "```{admonition} Ошибка\n",
    ":class: error\n",
    "Так обозначаются действия, которые могут привести к ошибке.\n",
    "```\n",
    "\n",
    "---"
   ]
  },
  {
   "cell_type": "code",
   "execution_count": 3,
   "id": "f1569be4",
   "metadata": {},
   "outputs": [
    {
     "name": "stdout",
     "output_type": "stream",
     "text": [
      "Python syntax highlighting\n"
     ]
    }
   ],
   "source": [
    "note = \"Python syntax highlighting\"\n",
    "print(note)"
   ]
  },
  {
   "cell_type": "code",
   "execution_count": 4,
   "id": "fe2704d0",
   "metadata": {},
   "outputs": [
    {
     "name": "stdout",
     "output_type": "stream",
     "text": [
      "Python syntax highlighting\n"
     ]
    }
   ],
   "source": [
    "note = \"Python syntax highlighting\"\n",
    "print(note)"
   ]
  },
  {
   "cell_type": "markdown",
   "id": "5cae41bd",
   "metadata": {},
   "source": [
    "## Математика\n",
    "\n",
    "````{prf:proof}\n",
    "We'll omit the full proof.\n",
    "\n",
    "But we will prove sufficiency of the asserted conditions.\n",
    "\n",
    "To this end, let $y \\in \\mathbb R^n$ and let $S$ be a linear subspace of $\\mathbb R^n$.\n",
    "\n",
    "Let $\\hat y$ be a vector in $\\mathbb R^n$ such that $\\hat y \\in S$ and $y - \\hat y \\perp S$.\n",
    "\n",
    "Let $z$ be any other point in $S$ and use the fact that $S$ is a linear subspace to deduce\n",
    "\n",
    "```{math}\n",
    "\\| y - z \\|^2\n",
    "= \\| (y - \\hat y) + (\\hat y - z) \\|^2\n",
    "= \\| y - \\hat y \\|^2  + \\| \\hat y - z  \\|^2\n",
    "```\n",
    "\n",
    "Hence $\\| y - z \\| \\geq \\| y - \\hat y \\|$, which completes the proof.\n",
    "````\n",
    "\n",
    "````{prf:theorem} Теорема Пифагора\n",
    ":label: thm-pythagor\n",
    "\n",
    "В прямоугольном треугольнике, длины катетов которого равны $a$ и $b$, а длина гипотенузы — $c$, выполнено соотношение\n",
    "$a^2 + b^2 = c^2$. \n",
    "````"
   ]
  }
 ],
 "metadata": {
  "jupytext": {
   "text_representation": {
    "extension": ".md",
    "format_name": "myst",
    "format_version": 0.13,
    "jupytext_version": "1.16.0"
   }
  },
  "kernelspec": {
   "display_name": "Python 3 (ipykernel)",
   "language": "python",
   "name": "python3"
  },
  "language_info": {
   "codemirror_mode": {
    "name": "ipython",
    "version": 3
   },
   "file_extension": ".py",
   "mimetype": "text/x-python",
   "name": "python",
   "nbconvert_exporter": "python",
   "pygments_lexer": "ipython3",
   "version": "3.12.1"
  },
  "source_map": [
   12,
   36,
   40,
   49,
   54,
   115,
   120,
   126
  ]
 },
 "nbformat": 4,
 "nbformat_minor": 5
}